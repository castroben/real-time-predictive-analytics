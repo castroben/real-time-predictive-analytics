{
 "cells": [
  {
   "cell_type": "markdown",
   "id": "1617e7c7-929e-42bb-8c24-76f81d9132a7",
   "metadata": {},
   "source": [
    "### Environment Setup"
   ]
  },
  {
   "cell_type": "code",
   "execution_count": 1,
   "id": "9dedb649-d272-45b4-8fe9-129d62223db6",
   "metadata": {},
   "outputs": [],
   "source": [
    "import os\n",
    "from pyspark.ml.classification import RandomForestClassificationModel\n",
    "from pyspark.ml.feature import VectorAssembler\n",
    "from pyspark.sql import functions as F\n",
    "\n",
    "from pyspark.sql import SparkSession\n",
    "from pyspark.sql import types as T\n",
    "from pyspark.sql.window import Window"
   ]
  },
  {
   "cell_type": "code",
   "execution_count": 2,
   "id": "04bc485d-ebd4-49e6-8c0f-bad8999e88c6",
   "metadata": {},
   "outputs": [],
   "source": [
    "os.environ['PYSPARK_SUBMIT_ARGS'] = '--packages org.apache.spark:spark-streaming-kafka-0-10_2.12:3.2.0,org.apache.spark:spark-sql-kafka-0-10_2.12:3.2.0 pyspark-shell'"
   ]
  },
  {
   "cell_type": "code",
   "execution_count": 3,
   "id": "2d24af4f-4848-4831-aa07-ecd2e4d295cf",
   "metadata": {},
   "outputs": [
    {
     "name": "stderr",
     "output_type": "stream",
     "text": [
      "25/02/05 03:24:19 WARN Utils: Your hostname, osbdet resolves to a loopback address: 127.0.0.1; using 10.0.2.15 instead (on interface enp0s3)\n",
      "25/02/05 03:24:19 WARN Utils: Set SPARK_LOCAL_IP if you need to bind to another address\n"
     ]
    },
    {
     "name": "stdout",
     "output_type": "stream",
     "text": [
      ":: loading settings :: url = jar:file:/home/osbdet/.jupyter_venv/lib/python3.11/site-packages/pyspark/jars/ivy-2.5.1.jar!/org/apache/ivy/core/settings/ivysettings.xml\n"
     ]
    },
    {
     "name": "stderr",
     "output_type": "stream",
     "text": [
      "Ivy Default Cache set to: /home/osbdet/.ivy2/cache\n",
      "The jars for the packages stored in: /home/osbdet/.ivy2/jars\n",
      "org.apache.spark#spark-streaming-kafka-0-10_2.12 added as a dependency\n",
      "org.apache.spark#spark-sql-kafka-0-10_2.12 added as a dependency\n",
      ":: resolving dependencies :: org.apache.spark#spark-submit-parent-c307520c-0498-4e9f-a310-c7a0a383481c;1.0\n",
      "\tconfs: [default]\n",
      "\tfound org.apache.spark#spark-streaming-kafka-0-10_2.12;3.2.0 in central\n",
      "\tfound org.apache.spark#spark-token-provider-kafka-0-10_2.12;3.2.0 in central\n",
      "\tfound org.apache.kafka#kafka-clients;2.8.0 in central\n",
      "\tfound org.lz4#lz4-java;1.7.1 in central\n",
      "\tfound org.xerial.snappy#snappy-java;1.1.8.4 in central\n",
      "\tfound org.slf4j#slf4j-api;1.7.30 in central\n",
      "\tfound org.apache.hadoop#hadoop-client-runtime;3.3.1 in central\n",
      "\tfound org.spark-project.spark#unused;1.0.0 in central\n",
      "\tfound org.apache.hadoop#hadoop-client-api;3.3.1 in central\n",
      "\tfound org.apache.htrace#htrace-core4;4.1.0-incubating in central\n",
      "\tfound commons-logging#commons-logging;1.1.3 in central\n",
      "\tfound com.google.code.findbugs#jsr305;3.0.0 in central\n",
      "\tfound org.apache.spark#spark-sql-kafka-0-10_2.12;3.2.0 in central\n",
      "\tfound org.apache.commons#commons-pool2;2.6.2 in central\n",
      ":: resolution report :: resolve 9482ms :: artifacts dl 666ms\n",
      "\t:: modules in use:\n",
      "\tcom.google.code.findbugs#jsr305;3.0.0 from central in [default]\n",
      "\tcommons-logging#commons-logging;1.1.3 from central in [default]\n",
      "\torg.apache.commons#commons-pool2;2.6.2 from central in [default]\n",
      "\torg.apache.hadoop#hadoop-client-api;3.3.1 from central in [default]\n",
      "\torg.apache.hadoop#hadoop-client-runtime;3.3.1 from central in [default]\n",
      "\torg.apache.htrace#htrace-core4;4.1.0-incubating from central in [default]\n",
      "\torg.apache.kafka#kafka-clients;2.8.0 from central in [default]\n",
      "\torg.apache.spark#spark-sql-kafka-0-10_2.12;3.2.0 from central in [default]\n",
      "\torg.apache.spark#spark-streaming-kafka-0-10_2.12;3.2.0 from central in [default]\n",
      "\torg.apache.spark#spark-token-provider-kafka-0-10_2.12;3.2.0 from central in [default]\n",
      "\torg.lz4#lz4-java;1.7.1 from central in [default]\n",
      "\torg.slf4j#slf4j-api;1.7.30 from central in [default]\n",
      "\torg.spark-project.spark#unused;1.0.0 from central in [default]\n",
      "\torg.xerial.snappy#snappy-java;1.1.8.4 from central in [default]\n",
      "\t---------------------------------------------------------------------\n",
      "\t|                  |            modules            ||   artifacts   |\n",
      "\t|       conf       | number| search|dwnlded|evicted|| number|dwnlded|\n",
      "\t---------------------------------------------------------------------\n",
      "\t|      default     |   14  |   0   |   0   |   0   ||   14  |   0   |\n",
      "\t---------------------------------------------------------------------\n",
      ":: retrieving :: org.apache.spark#spark-submit-parent-c307520c-0498-4e9f-a310-c7a0a383481c\n",
      "\tconfs: [default]\n",
      "\t0 artifacts copied, 14 already retrieved (0kB/67ms)\n",
      "25/02/05 03:24:38 WARN NativeCodeLoader: Unable to load native-hadoop library for your platform... using builtin-java classes where applicable\n",
      "Setting default log level to \"WARN\".\n",
      "To adjust logging level use sc.setLogLevel(newLevel). For SparkR, use setLogLevel(newLevel).\n"
     ]
    }
   ],
   "source": [
    "spark_session = \\\n",
    "  SparkSession.builder\\\n",
    "            .appName(\"real-time-analytics\")\\\n",
    "            .config(\"spark.sql.caseSensitive\", \"true\")\\\n",
    "            .config(\"spark.sql.legacy.timeParserPolicy\", \"LEGACY\") \\\n",
    "            .getOrCreate()\n",
    "spark_session.sparkContext.setLogLevel(\"ERROR\")"
   ]
  },
  {
   "cell_type": "code",
   "execution_count": 4,
   "id": "e6d29599-72d9-4eea-b676-b3773b8a6e95",
   "metadata": {},
   "outputs": [],
   "source": [
    "spark_session.sparkContext._jsc.hadoopConfiguration().set(\"fs.s3a.access.key\", \"s3access\")\n",
    "spark_session.sparkContext._jsc.hadoopConfiguration().set(\"fs.s3a.secret.key\", \"_s3access123$\")\n",
    "spark_session.sparkContext._jsc.hadoopConfiguration().set(\"fs.s3a.path.style.access\", \"true\")\n",
    "spark_session.sparkContext._jsc.hadoopConfiguration().set(\"fs.s3a.impl\", \"org.apache.hadoop.fs.s3a.S3AFileSystem\")\n",
    "spark_session.sparkContext._jsc.hadoopConfiguration().set(\"fs.s3a.endpoint\", \"http://localhost:9000\")"
   ]
  },
  {
   "cell_type": "code",
   "execution_count": 5,
   "id": "2b1367f2-3249-44e8-bf57-29b0dee93f6e",
   "metadata": {},
   "outputs": [],
   "source": [
    "kafka_topic = \"transactions_v1\"\n",
    "trigger_processingTime = \"5 seconds\"\n",
    "schema_csv = \"\"\"\n",
    "        timestamp STRING,\n",
    "        cc_num STRING,\n",
    "        merchant STRING,\n",
    "        category STRING,\n",
    "        amt DOUBLE,\n",
    "        first STRING,\n",
    "        last STRING,\n",
    "        gender STRING,\n",
    "        street STRING,\n",
    "        city STRING,\n",
    "        state STRING,\n",
    "        zip INT,\n",
    "        lat DOUBLE,\n",
    "        long DOUBLE,\n",
    "        city_pop INT,\n",
    "        job STRING,\n",
    "        dob STRING,\n",
    "        trans_num STRING,\n",
    "        unix_time STRING,\n",
    "        merch_lat DOUBLE,\n",
    "        merch_long DOUBLE,\n",
    "        is_fraud STRING\n",
    "    \"\"\""
   ]
  },
  {
   "cell_type": "markdown",
   "id": "411c8923-d749-485b-906e-efbdaac5f6c5",
   "metadata": {},
   "source": [
    "### Streaming"
   ]
  },
  {
   "cell_type": "code",
   "execution_count": 6,
   "id": "38efb312-0df3-48af-8f14-ec6b99429327",
   "metadata": {},
   "outputs": [],
   "source": [
    "raw_df = \\\n",
    "  spark_session.readStream\\\n",
    "               .format(\"kafka\")\\\n",
    "               .option(\"kafka.bootstrap.servers\",\"localhost:9092\")\\\n",
    "               .option(\"subscribe\", kafka_topic)\\\n",
    "               .option(\"startingOffsets\", \"earliest\")\\\n",
    "               .load()"
   ]
  },
  {
   "cell_type": "code",
   "execution_count": 7,
   "id": "3db0f8e9-7ac8-4ac4-b2ba-2003897ad1d5",
   "metadata": {},
   "outputs": [
    {
     "name": "stdout",
     "output_type": "stream",
     "text": [
      "root\n",
      " |-- key: binary (nullable = true)\n",
      " |-- value: binary (nullable = true)\n",
      " |-- topic: string (nullable = true)\n",
      " |-- partition: integer (nullable = true)\n",
      " |-- offset: long (nullable = true)\n",
      " |-- timestamp: timestamp (nullable = true)\n",
      " |-- timestampType: integer (nullable = true)\n",
      "\n"
     ]
    }
   ],
   "source": [
    "raw_df.printSchema()"
   ]
  },
  {
   "cell_type": "code",
   "execution_count": 9,
   "id": "60d11d99-4d87-4bbf-9051-753780073726",
   "metadata": {},
   "outputs": [],
   "source": [
    "messages_df = raw_df.selectExpr(\"CAST(value AS STRING) AS transaction\") \\\n",
    "        .select(F.from_csv(F.col(\"transaction\"), schema_csv, {\"sep\": \";\"}).alias(\"data\")) \\\n",
    "        .select(\"data.*\")"
   ]
  },
  {
   "cell_type": "code",
   "execution_count": 10,
   "id": "7c0b7c6c-58a3-4451-8178-a84ab848fa8f",
   "metadata": {},
   "outputs": [
    {
     "name": "stdout",
     "output_type": "stream",
     "text": [
      "root\n",
      " |-- timestamp: string (nullable = true)\n",
      " |-- cc_num: string (nullable = true)\n",
      " |-- merchant: string (nullable = true)\n",
      " |-- category: string (nullable = true)\n",
      " |-- amt: double (nullable = true)\n",
      " |-- first: string (nullable = true)\n",
      " |-- last: string (nullable = true)\n",
      " |-- gender: string (nullable = true)\n",
      " |-- street: string (nullable = true)\n",
      " |-- city: string (nullable = true)\n",
      " |-- state: string (nullable = true)\n",
      " |-- zip: integer (nullable = true)\n",
      " |-- lat: double (nullable = true)\n",
      " |-- long: double (nullable = true)\n",
      " |-- city_pop: integer (nullable = true)\n",
      " |-- job: string (nullable = true)\n",
      " |-- dob: string (nullable = true)\n",
      " |-- trans_num: string (nullable = true)\n",
      " |-- unix_time: string (nullable = true)\n",
      " |-- merch_lat: double (nullable = true)\n",
      " |-- merch_long: double (nullable = true)\n",
      " |-- is_fraud: string (nullable = true)\n",
      "\n"
     ]
    }
   ],
   "source": [
    "messages_df.printSchema()"
   ]
  },
  {
   "cell_type": "code",
   "execution_count": 14,
   "id": "2d06820a-82fc-446f-a197-582b9d4288f8",
   "metadata": {},
   "outputs": [
    {
     "name": "stderr",
     "output_type": "stream",
     "text": [
      "                                                                                \r"
     ]
    },
    {
     "name": "stdout",
     "output_type": "stream",
     "text": [
      "-------------------------------------------\n",
      "Batch: 0\n",
      "-------------------------------------------\n"
     ]
    },
    {
     "name": "stderr",
     "output_type": "stream",
     "text": [
      "                                                                                \r"
     ]
    },
    {
     "name": "stdout",
     "output_type": "stream",
     "text": [
      "-------------------------------------------\n",
      "Batch: 0\n",
      "-------------------------------------------\n",
      "+----------------+-----------+--------------------+--------------+------+-----------+--------+------+--------------------+----------------+-----+-----+-------+---------+--------+--------------------+----------+--------------------+----------+---------+-----------+--------+\n",
      "|       timestamp|     cc_num|            merchant|      category|   amt|      first|    last|gender|              street|            city|state|  zip|    lat|     long|city_pop|                 job|       dob|           trans_num| unix_time|merch_lat| merch_long|is_fraud|\n",
      "+----------------+-----------+--------------------+--------------+------+-----------+--------+------+--------------------+----------------+-----+-----+-------+---------+--------+--------------------+----------+--------------------+----------+---------+-----------+--------+\n",
      "|21/06/2020 12:14|3.57303E+15|fraud_Sporer-Keebler| personal_care| 29.84|     Joanne|Williams|     F|    3638 Marsh Union|         Altonah|   UT|84002|40.3207| -110.436|     302|Sales professiona...|17/01/1990|324cc204407e99f51...|1371816873|39.450497|-109.960431|     0\\n|\n",
      "|21/06/2020 12:14|3.59822E+15|fraud_Swaniawski,...|health_fitness| 41.28|     Ashley|   Lopez|     F|9333 Valentine Point|        Bellmore|   NY|11710|40.6729| -73.5365|   34496|   Librarian, public|21/10/1970|c81755dbbbea9d5c7...|1371816893| 40.49581| -74.196111|     0\\n|\n",
      "|21/06/2020 12:15|3.59192E+15|   fraud_Haley Group|      misc_pos| 60.05|      Brian|Williams|     M|32941 Krystal Mil...|      Titusville|   FL|32780|28.5697| -80.8191|   54767|        Set designer|25/07/1987|2159175b9efe66dc3...|1371816915|28.812399| -80.883061|     0\\n|\n",
      "|21/06/2020 12:15|3.52683E+15|fraud_Johnston-Ca...|        travel|  3.19|     Nathan|  Massey|     M|5783 Evan Roads A...|        Falmouth|   MI|49632|44.2529|  -85.017|    1126|  Furniture designer| 6/07/1955|57ff021bd3f328f87...|1371816917| 44.95915| -85.884734|     0\\n|\n",
      "|21/06/2020 12:15|3.04077E+13| fraud_Daugherty LLC|     kids_pets| 19.55|   Danielle|   Evans|     F|76752 David Lodge...|       Breesport|   NY|14816|42.1939| -76.7361|     520|     Psychotherapist|13/10/1991|798db04aaceb4febd...|1371816937|41.747158| -77.584197|     0\\n|\n",
      "|21/06/2020 12:15|2.13181E+14| fraud_Romaguera Ltd|health_fitness|133.93|      Kayla|  Sutton|     F|     010 Weaver Land|        Carlotta|   CA|95528| 40.507|-123.9743|    1139|Therapist, occupa...|15/01/1951|17003d7ce534440ea...|1371816944| 41.49946|-124.888729|     0\\n|\n",
      "|21/06/2020 12:15|3.58929E+15|   fraud_Reichel LLC| personal_care| 10.37|      Paula| Estrada|     F|     350 Stacy Glens|         Spencer|   SD|57374|43.7557| -97.5936|     343|Development worke...| 5/03/1972|8be473af4f05fc614...|1371816950|  44.4955| -97.728453|     0\\n|\n",
      "|21/06/2020 12:16|3.59636E+15|fraud_Goyette, Ho...|  shopping_pos|  4.37|      David| Everett|     M|     4138 David Fall|      Morrisdale|   PA|16858|41.0001| -78.2357|    3688|       Advice worker|27/05/1973|71a1da150d1ce5101...|1371816970|41.546066| -78.120238|     0\\n|\n",
      "|21/06/2020 12:16| 3.5469E+15| fraud_Kilback Group|   food_dining| 66.54|      Kayla|  Obrien|     F|7921 Robert Port ...|    Prairie Hill|   TX|76678|31.6591| -96.8094|     263|           Barrister|30/05/1956|a7915132c7c424099...|1371816971|31.782919| -96.366185|     0\\n|\n",
      "|21/06/2020 12:16|5.71465E+11|fraud_Gottlieb Group|     kids_pets|  42.4|      Louis|  Fisher|     M|     45654 Hess Rest|   Fort Washakie|   WY|82514|43.0048|-108.8964|    1645|   Freight forwarder|26/02/1976|fa3071565d94fb286...|1371817007|42.687775|-108.670054|     0\\n|\n",
      "|21/06/2020 12:17|6.59325E+15|fraud_Connelly-Ca...|          home|  2.91|    Melissa|    Meza|     F|  244 Abbott Parkway|     Loxahatchee|   FL|33470|26.7383|  -80.276|   26551|           Paramedic| 4/01/1977|a21cb82e7d8fdbf40...|1371817041| 26.07846| -80.569932|     0\\n|\n",
      "|21/06/2020 12:18| 4.9883E+12|fraud_Bechtelar-R...|   food_dining|  7.93|    William|Thompson|     M|977 Rita Grove Ap...|     Rock Tavern|   NY|12575|41.4575| -74.1659|    2258|   Building surveyor|17/03/1937|d0d2b5cca5ae19e0a...|1371817107| 40.71168| -73.668384|     0\\n|\n",
      "|21/06/2020 12:18| 6.0115E+15|fraud_Lubowitz-Wa...|     kids_pets|  2.91|     Ashley| Whitney|     F|   4038 Smith Avenue|           Jones|   AL|36749|32.5104| -86.8138|    1089|  Materials engineer| 2/11/1971|61dca41a9728ea5fd...|1371817117| 32.72113| -87.253846|     0\\n|\n",
      "|21/06/2020 12:18|4.57064E+15|fraud_Welch, Rath...| entertainment| 24.73|  Christine| Leblanc|     F|5097 Jodi Vista S...|         Deltona|   FL|32725|28.8989| -81.2473|   88735|Commercial hortic...| 9/04/1988|ea11379e8aa1b08d5...|1371817121| 29.83155| -80.926829|     0\\n|\n",
      "|21/06/2020 12:18|4.90663E+18|  fraud_Hickle Group|  shopping_pos|  2.33|    Charles|  Moreno|     M|838 Franklin Prai...|        Key West|   FL|33040|24.6557| -81.3824|   32891|        Town planner|13/02/1987|00da72495351ce6bd...|1371817134|24.306326| -81.065169|     0\\n|\n",
      "|21/06/2020 12:19|4.90885E+15|fraud_Lang, Towne...|     kids_pets|  16.6|     Lauren|  Torres|     F|   03030 White Lakes|       Grandview|   TX|76050|32.2779| -97.2351|    5875|Radiographer, the...|24/07/1992|67288141e8206f6f4...|1371817190| 33.18235| -97.919284|     0\\n|\n",
      "|21/06/2020 12:19|4.86131E+18|fraud_Morissette LLC| entertainment| 80.11|     Ashley|    Cruz|     F|65417 Walsh Radia...|     Saint Amant|   LA|70774|30.2385| -90.8435|   10076|Surveyor, rural p...|16/12/1977|71bb6ee81f9af4d2a...|1371817196| 30.44999| -89.930996|     0\\n|\n",
      "|21/06/2020 12:20|6.53844E+15|  fraud_Prosacco LLC| personal_care|  5.71|       Gina|  Grimes|     F|     444 Robert Mews|    Clarks Mills|   PA|16114|41.3851| -80.1752|     606|      Energy manager|22/09/1997|2d7640ea4f3bcd520...|1371817213|40.508064| -79.615158|     0\\n|\n",
      "|21/06/2020 12:20|   4.56E+18|fraud_Gottlieb Group|     kids_pets| 37.95|      Stacy|Villegas|     F|    20581 Pena Walks|Colorado Springs|   CO|80951|38.8881|-104.6556|  525713|Museum/gallery ex...| 9/05/1992|b14cd1ccf78a409c6...|1371817242| 39.84471|-103.975632|     0\\n|\n",
      "|21/06/2020 12:20|4.56283E+12|   fraud_Tillman LLC|        travel|  1.74|Christopher| Johnson|     M|28711 Kristine Ju...|      Greenville|   OH|45331|40.0987| -84.6342|   22930|       Media planner|26/11/1971|d8edb8556aad03a15...|1371817257|40.117115| -84.175021|     0\\n|\n",
      "+----------------+-----------+--------------------+--------------+------+-----------+--------+------+--------------------+----------------+-----+-----+-------+---------+--------+--------------------+----------+--------------------+----------+---------+-----------+--------+\n",
      "only showing top 20 rows\n",
      "\n",
      "+----------------+-----------+--------------------+--------------+------+-----------+--------+------+--------------------+----------------+-----+-----+-------+---------+--------+--------------------+----------+--------------------+----------+---------+-----------+--------+\n",
      "|       timestamp|     cc_num|            merchant|      category|   amt|      first|    last|gender|              street|            city|state|  zip|    lat|     long|city_pop|                 job|       dob|           trans_num| unix_time|merch_lat| merch_long|is_fraud|\n",
      "+----------------+-----------+--------------------+--------------+------+-----------+--------+------+--------------------+----------------+-----+-----+-------+---------+--------+--------------------+----------+--------------------+----------+---------+-----------+--------+\n",
      "|21/06/2020 12:14|3.57303E+15|fraud_Sporer-Keebler| personal_care| 29.84|     Joanne|Williams|     F|    3638 Marsh Union|         Altonah|   UT|84002|40.3207| -110.436|     302|Sales professiona...|17/01/1990|324cc204407e99f51...|1371816873|39.450497|-109.960431|     0\\n|\n",
      "|21/06/2020 12:14|3.59822E+15|fraud_Swaniawski,...|health_fitness| 41.28|     Ashley|   Lopez|     F|9333 Valentine Point|        Bellmore|   NY|11710|40.6729| -73.5365|   34496|   Librarian, public|21/10/1970|c81755dbbbea9d5c7...|1371816893| 40.49581| -74.196111|     0\\n|\n",
      "|21/06/2020 12:15|3.59192E+15|   fraud_Haley Group|      misc_pos| 60.05|      Brian|Williams|     M|32941 Krystal Mil...|      Titusville|   FL|32780|28.5697| -80.8191|   54767|        Set designer|25/07/1987|2159175b9efe66dc3...|1371816915|28.812399| -80.883061|     0\\n|\n",
      "|21/06/2020 12:15|3.52683E+15|fraud_Johnston-Ca...|        travel|  3.19|     Nathan|  Massey|     M|5783 Evan Roads A...|        Falmouth|   MI|49632|44.2529|  -85.017|    1126|  Furniture designer| 6/07/1955|57ff021bd3f328f87...|1371816917| 44.95915| -85.884734|     0\\n|\n",
      "|21/06/2020 12:15|3.04077E+13| fraud_Daugherty LLC|     kids_pets| 19.55|   Danielle|   Evans|     F|76752 David Lodge...|       Breesport|   NY|14816|42.1939| -76.7361|     520|     Psychotherapist|13/10/1991|798db04aaceb4febd...|1371816937|41.747158| -77.584197|     0\\n|\n",
      "|21/06/2020 12:15|2.13181E+14| fraud_Romaguera Ltd|health_fitness|133.93|      Kayla|  Sutton|     F|     010 Weaver Land|        Carlotta|   CA|95528| 40.507|-123.9743|    1139|Therapist, occupa...|15/01/1951|17003d7ce534440ea...|1371816944| 41.49946|-124.888729|     0\\n|\n",
      "|21/06/2020 12:15|3.58929E+15|   fraud_Reichel LLC| personal_care| 10.37|      Paula| Estrada|     F|     350 Stacy Glens|         Spencer|   SD|57374|43.7557| -97.5936|     343|Development worke...| 5/03/1972|8be473af4f05fc614...|1371816950|  44.4955| -97.728453|     0\\n|\n",
      "|21/06/2020 12:16|3.59636E+15|fraud_Goyette, Ho...|  shopping_pos|  4.37|      David| Everett|     M|     4138 David Fall|      Morrisdale|   PA|16858|41.0001| -78.2357|    3688|       Advice worker|27/05/1973|71a1da150d1ce5101...|1371816970|41.546066| -78.120238|     0\\n|\n",
      "|21/06/2020 12:16| 3.5469E+15| fraud_Kilback Group|   food_dining| 66.54|      Kayla|  Obrien|     F|7921 Robert Port ...|    Prairie Hill|   TX|76678|31.6591| -96.8094|     263|           Barrister|30/05/1956|a7915132c7c424099...|1371816971|31.782919| -96.366185|     0\\n|\n",
      "|21/06/2020 12:16|5.71465E+11|fraud_Gottlieb Group|     kids_pets|  42.4|      Louis|  Fisher|     M|     45654 Hess Rest|   Fort Washakie|   WY|82514|43.0048|-108.8964|    1645|   Freight forwarder|26/02/1976|fa3071565d94fb286...|1371817007|42.687775|-108.670054|     0\\n|\n",
      "|21/06/2020 12:17|6.59325E+15|fraud_Connelly-Ca...|          home|  2.91|    Melissa|    Meza|     F|  244 Abbott Parkway|     Loxahatchee|   FL|33470|26.7383|  -80.276|   26551|           Paramedic| 4/01/1977|a21cb82e7d8fdbf40...|1371817041| 26.07846| -80.569932|     0\\n|\n",
      "|21/06/2020 12:18| 4.9883E+12|fraud_Bechtelar-R...|   food_dining|  7.93|    William|Thompson|     M|977 Rita Grove Ap...|     Rock Tavern|   NY|12575|41.4575| -74.1659|    2258|   Building surveyor|17/03/1937|d0d2b5cca5ae19e0a...|1371817107| 40.71168| -73.668384|     0\\n|\n",
      "|21/06/2020 12:18| 6.0115E+15|fraud_Lubowitz-Wa...|     kids_pets|  2.91|     Ashley| Whitney|     F|   4038 Smith Avenue|           Jones|   AL|36749|32.5104| -86.8138|    1089|  Materials engineer| 2/11/1971|61dca41a9728ea5fd...|1371817117| 32.72113| -87.253846|     0\\n|\n",
      "|21/06/2020 12:18|4.57064E+15|fraud_Welch, Rath...| entertainment| 24.73|  Christine| Leblanc|     F|5097 Jodi Vista S...|         Deltona|   FL|32725|28.8989| -81.2473|   88735|Commercial hortic...| 9/04/1988|ea11379e8aa1b08d5...|1371817121| 29.83155| -80.926829|     0\\n|\n",
      "|21/06/2020 12:18|4.90663E+18|  fraud_Hickle Group|  shopping_pos|  2.33|    Charles|  Moreno|     M|838 Franklin Prai...|        Key West|   FL|33040|24.6557| -81.3824|   32891|        Town planner|13/02/1987|00da72495351ce6bd...|1371817134|24.306326| -81.065169|     0\\n|\n",
      "|21/06/2020 12:19|4.90885E+15|fraud_Lang, Towne...|     kids_pets|  16.6|     Lauren|  Torres|     F|   03030 White Lakes|       Grandview|   TX|76050|32.2779| -97.2351|    5875|Radiographer, the...|24/07/1992|67288141e8206f6f4...|1371817190| 33.18235| -97.919284|     0\\n|\n",
      "|21/06/2020 12:19|4.86131E+18|fraud_Morissette LLC| entertainment| 80.11|     Ashley|    Cruz|     F|65417 Walsh Radia...|     Saint Amant|   LA|70774|30.2385| -90.8435|   10076|Surveyor, rural p...|16/12/1977|71bb6ee81f9af4d2a...|1371817196| 30.44999| -89.930996|     0\\n|\n",
      "|21/06/2020 12:20|6.53844E+15|  fraud_Prosacco LLC| personal_care|  5.71|       Gina|  Grimes|     F|     444 Robert Mews|    Clarks Mills|   PA|16114|41.3851| -80.1752|     606|      Energy manager|22/09/1997|2d7640ea4f3bcd520...|1371817213|40.508064| -79.615158|     0\\n|\n",
      "|21/06/2020 12:20|   4.56E+18|fraud_Gottlieb Group|     kids_pets| 37.95|      Stacy|Villegas|     F|    20581 Pena Walks|Colorado Springs|   CO|80951|38.8881|-104.6556|  525713|Museum/gallery ex...| 9/05/1992|b14cd1ccf78a409c6...|1371817242| 39.84471|-103.975632|     0\\n|\n",
      "|21/06/2020 12:20|4.56283E+12|   fraud_Tillman LLC|        travel|  1.74|Christopher| Johnson|     M|28711 Kristine Ju...|      Greenville|   OH|45331|40.0987| -84.6342|   22930|       Media planner|26/11/1971|d8edb8556aad03a15...|1371817257|40.117115| -84.175021|     0\\n|\n",
      "+----------------+-----------+--------------------+--------------+------+-----------+--------+------+--------------------+----------------+-----+-----+-------+---------+--------+--------------------+----------+--------------------+----------+---------+-----------+--------+\n",
      "only showing top 20 rows\n",
      "\n"
     ]
    },
    {
     "name": "stderr",
     "output_type": "stream",
     "text": [
      "                                                                                \r"
     ]
    },
    {
     "name": "stdout",
     "output_type": "stream",
     "text": [
      "-------------------------------------------\n",
      "Batch: 1\n",
      "-------------------------------------------\n",
      "-------------------------------------------\n",
      "Batch: 1\n",
      "-------------------------------------------\n",
      "+----------------+-----------+--------------------+-------------+-----+---------+--------+------+--------------------+----------------+-----+-----+-------+--------+--------+--------------------+----------+--------------------+----------+---------+----------+--------+\n",
      "|       timestamp|     cc_num|            merchant|     category|  amt|    first|    last|gender|              street|            city|state|  zip|    lat|    long|city_pop|                 job|       dob|           trans_num| unix_time|merch_lat|merch_long|is_fraud|\n",
      "+----------------+-----------+--------------------+-------------+-----+---------+--------+------+--------------------+----------------+-----+-----+-------+--------+--------+--------------------+----------+--------------------+----------+---------+----------+--------+\n",
      "|21/06/2020 17:26|6.75946E+11|fraud_Kutch, Steu...|  food_dining|26.19|    Ellen|   Smith|     F|     285 George Lake|    Beaver Falls|   PA|15010|40.7687|-80.3592|   28425|          Podiatrist| 9/06/2000|01ce36bf41f859427...|1371835599| 41.60802| -80.21913|     0\\n|\n",
      "|21/06/2020 17:27|4.29274E+18|fraud_Volkman-Pre...| shopping_net| 1.34|  Michael|Williams|     M|35822 Clayton Str...|     Great Mills|   MD|20634|38.2674|-76.4954|    5927|       Art therapist| 9/06/1973|bdc54ee2b661d7677...|1371835629| 38.36606| -76.00121|     0\\n|\n",
      "|21/06/2020 17:27|6.01163E+15|fraud_Quitzon-Goy...|         home|47.36|  Heather| Roberts|     F|62934 Maria Cliff...|  Bethel Springs|   TN|38315|35.2289| -88.644|    3876|Senior tax profes...|19/11/1960|98857b10c9ac099ee...|1371835630|34.286087|-89.047646|     0\\n|\n",
      "|21/06/2020 17:27|3.59793E+15|    fraud_Metz-Boehm| shopping_pos| 4.52|  Derrick|  Flores|     M|83690 Nicholas Po...|         Oakland|   TN|38060|35.2229|-89.5518|    9496|Furniture conserv...|23/03/1993|bb6adf9adda9ec694...|1371835641|36.024452|-89.333895|     0\\n|\n",
      "|21/06/2020 17:27|3.58379E+15|     fraud_Terry Ltd|         home|61.85|     Beth| Lambert|     F|6447 Johnson Esta...|       Roosevelt|   OK|73564| 34.847|-98.9836|     551|Amenity horticult...|27/09/1970|dbb7689aa4123839e...|1371835666| 35.61137|-98.274009|     0\\n|\n",
      "|21/06/2020 17:27|3.71009E+14|fraud_McKenzie-Huels|  food_dining|30.72|  Randall| Burgess|     M|393 Carroll Route...|     Norman Park|   GA|31771|31.2462|-83.6549|    5666|Rural practice su...|14/09/2003|a70804f73b1ffa1c4...|1371835672|30.379742| -83.92095|     0\\n|\n",
      "|21/06/2020 17:28|4.12873E+18|fraud_Abernathy a...|  food_dining|36.04|  Monique|  Martin|     F|68276 Matthew Spr...|        Ratcliff|   TX|75858|31.3833|-95.0619|      43|Engineer, production| 4/10/1949|93079573b9ea6535a...|1371835696|30.669891|-94.919879|     0\\n|\n",
      "|21/06/2020 17:28|6.30426E+11| fraud_Daugherty LLC|    kids_pets|37.87|    Bryan|  Miller|     M|    411 Laurie Fords|            Cass|   WV|24927| 38.388|-79.9906|     365|Special effects a...|14/03/1970|ee96699c2f8c184a9...|1371835697|38.486958| -79.32528|     0\\n|\n",
      "|21/06/2020 17:29|4.45144E+15|  fraud_Harris Group|  food_dining|98.42|   Cheryl|  Morgan|     F|7535 Amanda Manor...|          Norman|   AR|71960|34.4596|-93.6743|    1383|Manufacturing eng...|11/09/1999|1863eb358b9555b44...|1371835749|33.688442|-94.495624|     0\\n|\n",
      "|21/06/2020 17:30|4.64226E+15|fraud_Durgan, Gis...|         home|39.11|  Sabrina| Johnson|     F|320 Nicholson Orc...|        Thompson|   UT|84540|38.9999|-109.615|      46|  Surveyor, minerals|23/04/1987|10642b4c7c0944605...|1371835820|39.436623|-109.10299|     0\\n|\n",
      "|21/06/2020 17:30|2.28374E+15|fraud_Hoppe-Parisian|    kids_pets|14.12|  Shannon|Williams|     F|9345 Spencer Junc...|      Alpharetta|   GA|30009| 34.077|-84.3033|  165556|      Prison officer|27/12/1997|7070845f7a598ba43...|1371835826|34.590027|-84.824082|     0\\n|\n",
      "|21/06/2020 17:30|4.50254E+18|     fraud_Terry Ltd|         home|17.54|Stephanie|Cummings|     F|   1025 Robin Square|        Ash Flat|   AR|72513|36.2201|-91.6421|    2856|         Hydrologist|27/08/1926|78c949853a9789a83...|1371835833| 37.09188|-91.393966|     0\\n|\n",
      "|21/06/2020 17:30|3.52142E+15|fraud_Brown-Green...|entertainment|142.3|   Angela|  Hodges|     F|      08236 Kim Hill|    Indianapolis|   IN|46254| 39.849| -86.272|  910148|         Firefighter|30/11/1975|cf6635582498237db...|1371835856|40.493256| -86.10619|     0\\n|\n",
      "|21/06/2020 17:31|3.59801E+15|fraud_Yost, Scham...|    kids_pets|23.19|     Lisa|   Clark|     F|   07943 Davis River|      Grimesland|   NC|27837| 35.558|-77.2566|    5903|Manufacturing sys...| 7/10/1993|db8ef5f24d48ad1d5...|1371835868| 34.90623|-77.146404|     0\\n|\n",
      "|21/06/2020 17:31|2.22767E+15|fraud_Schuppe, No...| shopping_pos| 4.21|    Angie|   Jones|     F|    6970 Blake Trail|      Clearwater|   FL|33760|27.9004|-82.7152|  172247|Geneticist, molec...|22/10/1979|032bba24197d2ef61...|1371835904|28.616762|-82.037213|     0\\n|\n",
      "|21/06/2020 17:31|3.05702E+13|fraud_Crooks and ...|personal_care|57.65|  Vincent|    Cain|     M| 64851 Cole Turnpike|        Hartford|   AL|36344| 31.086|-85.7192|    5732|  Jewellery designer| 7/12/1945|ef1107e62548690c5...|1371835915|31.418758|-86.667714|     0\\n|\n",
      "|21/06/2020 17:32|3.70877E+14|fraud_Cruickshank...|entertainment|99.56|    Sarah|   Clark|     F|25961 Beverly Uni...|North Wilkesboro|   NC|28659|36.2017|-81.1286|   21134| Dispensing optician| 6/03/1984|5f90ac674374b0770...|1371835935|  36.1434|-80.775919|     0\\n|\n",
      "|21/06/2020 17:32|6.30452E+11|fraud_Champlin-Ca...|         home|83.42|   Rachel| Daniels|     F|561 Little Plain ...|         Wetmore|   MI|49895|46.3535|-86.6345|     765|        Immunologist|12/06/1972|cb752d273c1197d62...|1371835942|46.075718|-85.672962|     0\\n|\n",
      "|21/06/2020 17:32|5.61943E+11| fraud_Goldner-Lemke|entertainment|13.43|  Melissa|   Brown|     F|    330 Montoya Ramp|      Washington|   DC|20036|38.9087|-77.0414|  601723|      Prison officer|14/03/1986|3e6fbf6f56fae9afa...|1371835964| 38.07854|-76.979749|     0\\n|\n",
      "|21/06/2020 17:32|1.80031E+14|fraud_Bashirian G...| shopping_net| 2.84|    Becky|Mckinney|     F|250 Benjamin Hill...|          Mobile|   AL|36617|30.7145|-88.0918|  270712|Surveyor, land/ge...| 5/01/1972|29574c817ee6a057f...|1371835964|30.007986|-88.037757|     0\\n|\n",
      "+----------------+-----------+--------------------+-------------+-----+---------+--------+------+--------------------+----------------+-----+-----+-------+--------+--------+--------------------+----------+--------------------+----------+---------+----------+--------+\n",
      "only showing top 20 rows\n",
      "\n",
      "+----------------+-----------+--------------------+-------------+------+-----------+---------+------+--------------------+--------------+-----+-----+-------+---------+--------+--------------------+----------+--------------------+----------+---------+-----------+--------+\n",
      "|       timestamp|     cc_num|            merchant|     category|   amt|      first|     last|gender|              street|          city|state|  zip|    lat|     long|city_pop|                 job|       dob|           trans_num| unix_time|merch_lat| merch_long|is_fraud|\n",
      "+----------------+-----------+--------------------+-------------+------+-----------+---------+------+--------------------+--------------+-----+-----+-------+---------+--------+--------------------+----------+--------------------+----------+---------+-----------+--------+\n",
      "|21/06/2020 16:10|3.02635E+13|fraud_Cartwright PLC|    kids_pets| 52.71|       Erik|Patterson|     M|162 Jessica Row A...|         Hatch|   UT|84735|37.7175|-112.4777|     258|        Geoscientist|24/11/1961|73d2e1ce4c2bc9069...|1371831032|37.075146| -111.75348|     0\\n|\n",
      "|21/06/2020 16:10|3.76445E+14|fraud_Baumbach, F...| shopping_net|  7.22|     Rachel|     Lowe|     F|  372 Jeffrey Course|    Sutherland|   NE|69165|41.1558| -101.136|    1789|    Insurance broker|11/02/1982|f5c250b45b8efc2be...|1371831057|40.772465|-100.373567|     0\\n|\n",
      "|21/06/2020 16:11|5.67868E+11|     fraud_Lesch Ltd| shopping_pos|  5.34|       Dawn|   Tucker|     F|  789 Herring Manors|       Houston|   TX|77007|29.7736| -95.4034| 2906700|Copywriter, adver...|16/12/1984|7d0253ecf9ce7c8a0...|1371831066|29.890394|  -95.20695|     0\\n|\n",
      "|21/06/2020 16:11|4.58513E+12|fraud_Macejkovic-...| shopping_pos| 42.11|      Karen|   Gordon|     F|543 Ware Path Apt...|         Utica|   MO|64686|39.7417| -93.6289|     271|Land/geomatics su...|18/04/1972|06250075f7b1b202f...|1371831093|39.305218| -94.038975|     0\\n|\n",
      "|21/06/2020 16:11|1.80067E+14|fraud_Moore, Will...|         home| 69.82|      Karen|     Ryan|     F|82468 Michelle Vi...|        Joliet|   IL|60432|41.5378| -88.0572|  128354|Teacher, secondar...|20/01/1992|dde4bc7b0992e9640...|1371831101|42.337227| -88.525018|     0\\n|\n",
      "|21/06/2020 16:12|6.54473E+15|   fraud_Reichel LLC|personal_care|  8.88|       John|    Myers|     M|   701 Wilson Divide|      Highland|   IN|46322|  41.55| -87.4569|   23727|Community arts wo...| 8/02/1982|23b2429aecf0d2429...|1371831139|40.648415| -87.849405|     0\\n|\n",
      "|21/06/2020 16:13|4.58493E+18|fraud_Lowe, Dietr...|    kids_pets| 30.57|     Amanda|    Gomez|     F|8152 Brittany Cen...|        Dallas|   TX|75218|32.8463| -96.6972| 1263321|Designer, ceramic...|16/04/1975|f7748be90c2eb7a81...|1371831229| 32.56081| -95.949342|     0\\n|\n",
      "|21/06/2020 16:14|3.42351E+14|fraud_Lowe, Dietr...|    kids_pets| 48.86|    Rebecca|   Obrien|     F|  5619 Mendoza Inlet|      Juliette|   GA|31046|33.1194| -83.8235|    3343|     Theatre manager| 8/06/1990|596bbdc7dfce874b7...|1371831249|32.350494| -84.457552|     0\\n|\n",
      "|21/06/2020 16:14|5.02038E+11|   fraud_Hills-Boyer|personal_care| 73.29|       Kurt|   Peters|     M|    7290 Ashlee Keys|  Kissee Mills|   MO|65680|36.6704| -93.0377|    1201|Engineer, agricul...|18/03/1980|28b5b0651be435149...|1371831270|36.774124| -93.681779|     0\\n|\n",
      "|21/06/2020 16:29|6.01139E+15| fraud_Padberg-Sauer|         home|246.33|    Natalie|   Watson|     F|386 James Roads A...|   Los Angeles|   CA|90014|34.0443|-118.2509| 2383912|Journalist, newsp...|30/05/1959|6e8453bd80f61063f...|1371832162|33.519077|-118.100357|     0\\n|\n",
      "|21/06/2020 16:29|3.51961E+15|fraud_Quitzon-Goy...|         home| 37.41|     Audrey| Gonzalez|     F|   34180 Lopez Plaza|Fields Landing|   CA|95537|40.7268|-124.2174|     276|Scientist, audiol...| 6/05/1929|af41c241d84277965...|1371832172| 41.68521| -123.50619|     0\\n|\n",
      "|21/06/2020 16:29| 4.6817E+12|fraud_Weimann, Ku...| shopping_pos|  7.57|     Joseph| Gonzalez|     M|319 Wendy Fort Su...|  Murfreesboro|   TN|37132|35.8596|  -86.421|  158701|Journalist, newsp...| 6/03/1978|51276bf03a3b44915...|1371832184|35.292202| -86.173517|     0\\n|\n",
      "|21/06/2020 16:30|4.15876E+15|fraud_Terry, John...|     misc_pos|  8.72|       Dawn|      Cox|     F|  193 Catherine Ways|         Hills|   MN|56138|43.5335| -96.3645|     899|      Data scientist|15/01/1995|bf93fe5578a59f29d...|1371832256|42.780045| -97.074595|     0\\n|\n",
      "|21/06/2020 16:31|4.06058E+15|fraud_Gleason and...|    kids_pets|  55.3|     Steven|  Sanders|     M|       25955 Amy Via|       Ozawkie|   KS|66070|39.2136| -95.4404|    2661|    Theatre director|14/11/1948|7e33f29dd1fb73872...|1371832315| 38.37819| -95.773324|     0\\n|\n",
      "|21/06/2020 16:31|3.76445E+14|fraud_Stiedemann Ltd|  food_dining| 77.07|     Rachel|     Lowe|     F|  372 Jeffrey Course|    Sutherland|   NE|69165|41.1558| -101.136|    1789|    Insurance broker|11/02/1982|34f1d41f63b935b2a...|1371832317|42.006927|-100.386021|     0\\n|\n",
      "|21/06/2020 16:32|6.30452E+11|    fraud_Herzog Ltd|     misc_pos|  9.21|     Rachel|  Daniels|     F|561 Little Plain ...|       Wetmore|   MI|49895|46.3535| -86.6345|     765|        Immunologist|12/06/1972|bb91443420111df2c...|1371832367|45.550087|  -86.19746|     0\\n|\n",
      "|21/06/2020 16:32|4.98985E+18|fraud_Morissette-...|personal_care|101.62|    Vanessa| Anderson|     F|21178 Brittney Locks|    Prosperity|   SC|29127|34.1832| -81.5324|    8333|       Archaeologist| 9/07/1994|6fb47c8a5a1f00b6f...|1371832379|33.596283| -82.181998|     0\\n|\n",
      "|21/06/2020 16:33|4.06998E+15| fraud_Kozey-Kuhlman|personal_care|  4.55|   Kimberly|   Martin|     F|1943 Dennis Inlet...|     Hurricane|   WV|25526|38.4257| -81.9943|   21902|                 Sub|18/09/1980|8b45025f53ffeb4c0...|1371832420|39.127098| -82.504994|     0\\n|\n",
      "|21/06/2020 16:14| 4.2929E+18|fraud_Turcotte-Ha...|     misc_pos| 75.92|    Jeffrey|    Smith|     M|135 Joseph Mountains|          Sula|   MT|59871|45.8433|-113.8748|     218|Therapist, hortic...|16/08/1995|b16a1ce85f6e81ffc...|1371831297| 45.93136|-114.773945|     0\\n|\n",
      "|21/06/2020 16:15|4.56283E+12|fraud_O'Keefe-Wisoky|  food_dining| 48.39|Christopher|  Johnson|     M|28711 Kristine Ju...|    Greenville|   OH|45331|40.0987| -84.6342|   22930|       Media planner|26/11/1971|2f353a5655cd42d55...|1371831327| 39.35339| -85.477974|     0\\n|\n",
      "+----------------+-----------+--------------------+-------------+------+-----------+---------+------+--------------------+--------------+-----+-----+-------+---------+--------+--------------------+----------+--------------------+----------+---------+-----------+--------+\n",
      "only showing top 20 rows\n",
      "\n"
     ]
    }
   ],
   "source": [
    "sink = messages_df \\\n",
    "    .writeStream \\\n",
    "    .outputMode(\"append\") \\\n",
    "    .trigger(processingTime=trigger_processingTime) \\\n",
    "    .format(\"console\") \\\n",
    "    .option(\"truncate\", \"true\") \\\n",
    "    .start()"
   ]
  },
  {
   "cell_type": "code",
   "execution_count": 16,
   "id": "8166d1d4-5114-4bac-8e46-e6cacc7b8047",
   "metadata": {},
   "outputs": [
    {
     "name": "stderr",
     "output_type": "stream",
     "text": [
      "                                                                                \r"
     ]
    },
    {
     "name": "stdout",
     "output_type": "stream",
     "text": [
      "-------------------------------------------\n",
      "Batch: 3\n",
      "-------------------------------------------\n",
      "+----------------+-----------+--------------------+--------------+------+---------+----------+------+--------------------+-------------+-----+-----+-------+---------+--------+--------------------+----------+--------------------+----------+---------+-----------+--------+\n",
      "|       timestamp|     cc_num|            merchant|      category|   amt|    first|      last|gender|              street|         city|state|  zip|    lat|     long|city_pop|                 job|       dob|           trans_num| unix_time|merch_lat| merch_long|is_fraud|\n",
      "+----------------+-----------+--------------------+--------------+------+---------+----------+------+--------------------+-------------+-----+-----+-------+---------+--------+--------------------+----------+--------------------+----------+---------+-----------+--------+\n",
      "|21/06/2020 18:27|3.53113E+15|  fraud_Schulist Ltd|   food_dining| 74.91|   Shelby|  Mitchell|     F|    974 Cindy Stream|      Brandon|   VT| 5733|43.8065| -73.0882|    5895|   Scientist, marine|13/07/1975|411da510f14d94285...|1371839263|44.775528| -74.082058|     0\\n|\n",
      "|21/06/2020 18:27|4.39097E+18|fraud_Fritsch and...|health_fitness| 17.07|     Kyle|   Simmons|     M|  8149 Harris Divide|Oklahoma City|   OK|73134|35.6174| -97.5583|  640470|Advertising copyw...|24/06/1966|6935ab43d52981968...|1371839268| 35.17166| -97.990076|     0\\n|\n",
      "|21/06/2020 18:27|6.30442E+11|  fraud_Ernser-Feest|          home|248.79|    Susan|Washington|     F|759 Erin Mount Su...|          May|   TX|76857|31.9571| -98.9656|    1791|Corporate investm...|26/07/1965|2130d66a503759e1f...|1371839272|31.503567| -98.852299|     0\\n|\n",
      "|21/06/2020 18:27|3.45389E+14|fraud_Eichmann-Ki...|          home| 32.52|   Justin|    Fowler|     M|5569 Phillips Nec...|  Coffeeville|   MS|38922|33.9215| -89.6782|    3451|    Financial trader|19/05/1984|670e3ea39c887bd97...|1371839277| 34.63657| -90.302598|     0\\n|\n",
      "|21/06/2020 18:28|4.81079E+18|    fraud_Schoen Ltd|     kids_pets| 21.07|    Julie|   Sanchez|     F|    916 Charles Road|  Bowersville|   OH|45307|39.5756| -83.7153|     338|   Quantity surveyor|28/07/1988|16c0cd0c410c4d43a...|1371839286| 39.42635| -83.513614|     0\\n|\n",
      "|21/06/2020 18:28| 3.0273E+13|    fraud_Feil-Morar|health_fitness| 64.29|   Andrew| Patterson|     M|06959 Stephen Bra...|        Thida|   AR|72165|35.5762| -91.4539|     111|Careers informati...|13/06/2000|027bff6ecc2811c77...|1371839300|35.986874| -90.932518|     0\\n|\n",
      "|21/06/2020 18:28|4.50145E+15|fraud_Mosciski Group|        travel| 556.5|     Paul|      Wade|     M|2306 Clark Ranch ...|       Ferney|   SD|57439| 45.329| -98.0837|      52|          Bookseller|22/05/1990|f89a2db11f2df3d6c...|1371839324|45.351776| -98.096311|     0\\n|\n",
      "|21/06/2020 18:29|4.85953E+15|fraud_Schroeder G...|health_fitness|  6.69|  Rebecca|    Farley|     F|    383 Long Islands|   Downsville|   NY|13755|42.0716| -75.0152|    1228|Psychotherapist, ...|25/02/1990|ef13b32c309414471...|1371839356|42.661606| -74.175081|     0\\n|\n",
      "|21/06/2020 18:29|3.54008E+15|     fraud_Kuhic LLC|  shopping_net|  3.66|Christian|     Johns|     M|      892 Solis Neck|     Lonsdale|   MN|55046|44.4477| -93.4252|    5211|Chief Strategy Of...|27/01/1987|88ddc6672baa4979a...|1371839357| 44.76751| -93.993587|     0\\n|\n",
      "|21/06/2020 18:29|3.57643E+15|   fraud_Kozey-Boehm|  shopping_net|  4.81|  Jessica|      Ward|     F|72269 Elizabeth F...|      Phoenix|   AZ|85020|33.5623|-112.0559| 1312922|          Contractor|24/10/1981|4450330f7aa908312...|1371839387|32.973103|-111.784806|     0\\n|\n",
      "|21/06/2020 18:29|3.52683E+15|fraud_Eichmann-Ki...|          home|  9.16|   Nathan|    Massey|     M|5783 Evan Roads A...|     Falmouth|   MI|49632|44.2529|  -85.017|    1126|  Furniture designer| 6/07/1955|ef6d1dbf7d6e3ff0f...|1371839387| 43.70868| -85.826634|     0\\n|\n",
      "|21/06/2020 18:31|2.13196E+14|fraud_Kirlin and ...| personal_care| 65.38|  Zachary|     Allen|     M|69252 Oconnor All...|        Ollie|   IA|52576|41.2001| -92.1354|     568|Commercial hortic...|24/07/1969|7bb4b3160b96081e0...|1371839483| 41.80718| -92.667881|     0\\n|\n",
      "|21/06/2020 18:31|6.51135E+15|      fraud_Howe PLC| entertainment| 24.25|   Robert|    Nguyen|     M|  74835 Garner Point|         Ruth|   NV|89319|39.3426|-114.8859|     450|         Interpreter|24/08/1946|aed926fd6df6e28af...|1371839508| 40.14665|-114.777506|     0\\n|\n",
      "|21/06/2020 18:31|2.13142E+14|  fraud_Predovic Inc|  shopping_net| 80.26| Margaret|    Curtis|     F|    742 Oneill Shore|     Florence|   MS|39073| 32.153| -90.1217|   19685|         Fine artist|24/12/1984|3c6beda1859bd8b6c...|1371839516| 31.15906| -90.355781|     0\\n|\n",
      "|21/06/2020 18:32|6.53463E+15|fraud_Boehm, Bloc...|      misc_pos|  2.14|Christine|    Harris|     F|29606 Martinez Vi...|    Hinesburg|   VT| 5461|44.3346|  -73.098|    4542|Claims inspector/...|19/03/1998|b14dc0ffdf1b9e203...|1371839524|44.010258| -73.959523|     0\\n|\n",
      "|21/06/2020 18:32|3.53374E+15|  fraud_Kris-Padberg|  shopping_pos|  2.44|   Robert|    Haynes|     M|857 Aaron Circles...| Johns Island|   SC|29455|32.8357| -79.8217|   20478|  Materials engineer| 4/06/1997|4f18f264adb9d4846...|1371839549|33.609623| -79.445212|     0\\n|\n",
      "|21/06/2020 18:32|6.01198E+15|     fraud_Fahey Inc|     kids_pets|248.18|    Haley|    Wagner|     F|05561 Farrell Cre...|    Annapolis|   MD|21405|39.0305| -76.5515|   92106|Accountant, chart...|28/05/1943|b8b6d4e5855e1ad31...|1371839550|38.758335| -75.578318|     0\\n|\n",
      "|21/06/2020 18:32|4.30248E+15|fraud_Weimann, Ku...|  shopping_pos|  1.47|    David| Rodriguez|     M|    821 Solis Points|     Muskegon|   MI|49440|43.2326| -86.2492|  128715|Historic building...|25/05/1995|e2430bf8a0cf01d70...|1371839551| 43.25666| -86.060519|     0\\n|\n",
      "|21/06/2020 18:33|3.57339E+15|   fraud_Volkman PLC|   food_dining|  5.88|Stephanie|    Murphy|     F|     526 Stacy Walks|      Barnard|   SD|57426|45.7205| -98.5534|      63|   Systems developer|30/10/1969|76ff940529235aa0d...|1371839604| 44.74541| -99.508123|     0\\n|\n",
      "|21/06/2020 18:33|4.37899E+15|    fraud_Kuphal-Toy|   food_dining|  9.86|   Travis|     Hayes|     M|    1561 Chase Grove|       Conway|   NH| 3818|43.9742| -71.1503|    3807|             Surgeon|25/10/1999|dbee65b37a14e045b...|1371839627| 43.89415| -71.229775|     0\\n|\n",
      "+----------------+-----------+--------------------+--------------+------+---------+----------+------+--------------------+-------------+-----+-----+-------+---------+--------+--------------------+----------+--------------------+----------+---------+-----------+--------+\n",
      "only showing top 20 rows\n",
      "\n"
     ]
    }
   ],
   "source": [
    "sink.stop()"
   ]
  },
  {
   "cell_type": "code",
   "execution_count": null,
   "id": "7141192c-2f69-4e17-af45-e91de541af76",
   "metadata": {},
   "outputs": [],
   "source": []
  }
 ],
 "metadata": {
  "kernelspec": {
   "display_name": "Python 3 (ipykernel)",
   "language": "python",
   "name": "python3"
  },
  "language_info": {
   "codemirror_mode": {
    "name": "ipython",
    "version": 3
   },
   "file_extension": ".py",
   "mimetype": "text/x-python",
   "name": "python",
   "nbconvert_exporter": "python",
   "pygments_lexer": "ipython3",
   "version": "3.11.2"
  }
 },
 "nbformat": 4,
 "nbformat_minor": 5
}
